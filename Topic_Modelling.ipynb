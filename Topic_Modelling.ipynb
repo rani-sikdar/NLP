{
  "nbformat": 4,
  "nbformat_minor": 0,
  "metadata": {
    "colab": {
      "provenance": [],
      "authorship_tag": "ABX9TyN8Qh7TA9JboenHT+JOz5tb",
      "include_colab_link": true
    },
    "kernelspec": {
      "name": "python3",
      "display_name": "Python 3"
    },
    "language_info": {
      "name": "python"
    }
  },
  "cells": [
    {
      "cell_type": "markdown",
      "metadata": {
        "id": "view-in-github",
        "colab_type": "text"
      },
      "source": [
        "<a href=\"https://colab.research.google.com/github/rani-sikdar/NLP/blob/main/Topic_Modelling.ipynb\" target=\"_parent\"><img src=\"https://colab.research.google.com/assets/colab-badge.svg\" alt=\"Open In Colab\"/></a>"
      ]
    },
    {
      "cell_type": "code",
      "execution_count": null,
      "metadata": {
        "colab": {
          "base_uri": "https://localhost:8080/"
        },
        "id": "b6qkdFF8u0H8",
        "outputId": "a4874599-a9e1-4e6c-8292-459bd066b306"
      },
      "outputs": [
        {
          "output_type": "stream",
          "name": "stdout",
          "text": [
            "Requirement already satisfied: gensim in /usr/local/lib/python3.10/dist-packages (4.3.2)\n",
            "Requirement already satisfied: numpy>=1.18.5 in /usr/local/lib/python3.10/dist-packages (from gensim) (1.25.2)\n",
            "Requirement already satisfied: scipy>=1.7.0 in /usr/local/lib/python3.10/dist-packages (from gensim) (1.11.4)\n",
            "Requirement already satisfied: smart-open>=1.8.1 in /usr/local/lib/python3.10/dist-packages (from gensim) (6.4.0)\n"
          ]
        }
      ],
      "source": [
        "pip install gensim"
      ]
    },
    {
      "cell_type": "code",
      "source": [
        "from gensim import corpora"
      ],
      "metadata": {
        "id": "KcxR5KeIu03S"
      },
      "execution_count": null,
      "outputs": []
    },
    {
      "cell_type": "code",
      "source": [
        "documents= [\"my name is rani sikdar.\", \"i am an enthusiatic data scientist\"]"
      ],
      "metadata": {
        "id": "_OcDLsfru06H"
      },
      "execution_count": null,
      "outputs": []
    },
    {
      "cell_type": "code",
      "source": [
        "texts = [ sub.split() for sub in documents]\n",
        "print(texts)"
      ],
      "metadata": {
        "colab": {
          "base_uri": "https://localhost:8080/"
        },
        "id": "EnJ8j2GTu0_K",
        "outputId": "362c631d-703c-46a3-c4c3-3b1a0e268d42"
      },
      "execution_count": null,
      "outputs": [
        {
          "output_type": "stream",
          "name": "stdout",
          "text": [
            "[['my', 'name', 'is', 'rani', 'sikdar.'], ['i', 'am', 'an', 'enthusiatic', 'data', 'scientist']]\n"
          ]
        }
      ]
    },
    {
      "cell_type": "code",
      "source": [
        "dictionary = corpora.Dictionary(texts)"
      ],
      "metadata": {
        "id": "ojJ65hcHu1EX"
      },
      "execution_count": null,
      "outputs": []
    },
    {
      "cell_type": "code",
      "source": [
        "test= 'rani is a data scientist'\n",
        "test_vec= dictionary.doc2bow(test.split())"
      ],
      "metadata": {
        "id": "B22NJ0rVxb1M"
      },
      "execution_count": null,
      "outputs": []
    },
    {
      "cell_type": "code",
      "source": [
        "data = [dictionary.doc2bow(document.split()) for document in documents]"
      ],
      "metadata": {
        "id": "R5oCSqOhxb31"
      },
      "execution_count": null,
      "outputs": []
    },
    {
      "cell_type": "code",
      "source": [
        "data"
      ],
      "metadata": {
        "colab": {
          "base_uri": "https://localhost:8080/"
        },
        "id": "4WRHtFHE12JI",
        "outputId": "9d61c449-75ae-4902-8ba0-4756fc086fee"
      },
      "execution_count": null,
      "outputs": [
        {
          "output_type": "execute_result",
          "data": {
            "text/plain": [
              "[[(0, 1), (1, 1), (2, 1), (3, 1), (4, 1)],\n",
              " [(5, 1), (6, 1), (7, 1), (8, 1), (9, 1), (10, 1)]]"
            ]
          },
          "metadata": {},
          "execution_count": 30
        }
      ]
    },
    {
      "cell_type": "code",
      "source": [
        "from gensim.models import LdaModel"
      ],
      "metadata": {
        "id": "z6u4tSILxb6t"
      },
      "execution_count": null,
      "outputs": []
    },
    {
      "cell_type": "code",
      "source": [
        "lda= LdaModel(data, num_topics= 2)"
      ],
      "metadata": {
        "colab": {
          "base_uri": "https://localhost:8080/"
        },
        "id": "vaNBSIVzxb9U",
        "outputId": "06827aca-01ec-47e4-a69b-ba541228733a"
      },
      "execution_count": null,
      "outputs": [
        {
          "output_type": "stream",
          "name": "stderr",
          "text": [
            "WARNING:gensim.models.ldamodel:no word id mapping provided; initializing from corpus, assuming identity\n",
            "WARNING:gensim.models.ldamodel:too few updates, training might not converge; consider increasing the number of passes or iterations to improve accuracy\n"
          ]
        }
      ]
    },
    {
      "cell_type": "code",
      "source": [
        "test= 'rani is a data scientist'\n",
        "test_vec= dictionary.doc2bow(test.split())"
      ],
      "metadata": {
        "id": "SaBQcbAJxb_6"
      },
      "execution_count": null,
      "outputs": []
    },
    {
      "cell_type": "code",
      "source": [
        "output = lda[test_vec]"
      ],
      "metadata": {
        "id": "45oLGGuBxcCw"
      },
      "execution_count": null,
      "outputs": []
    },
    {
      "cell_type": "code",
      "source": [
        "output"
      ],
      "metadata": {
        "colab": {
          "base_uri": "https://localhost:8080/"
        },
        "id": "u1O4xjY_xcGJ",
        "outputId": "76d177fd-4095-4f64-c02d-899c10cf41d4"
      },
      "execution_count": null,
      "outputs": [
        {
          "output_type": "execute_result",
          "data": {
            "text/plain": [
              "[(0, 0.5248446), (1, 0.4751554)]"
            ]
          },
          "metadata": {},
          "execution_count": 35
        }
      ]
    },
    {
      "cell_type": "code",
      "source": [
        "lda.show_topics(formatted= False)"
      ],
      "metadata": {
        "colab": {
          "base_uri": "https://localhost:8080/"
        },
        "id": "LqwIj2nj3Of0",
        "outputId": "875a4825-0f8f-4148-aeaf-5a912c4d9234"
      },
      "execution_count": null,
      "outputs": [
        {
          "output_type": "execute_result",
          "data": {
            "text/plain": [
              "[(0,\n",
              "  [('4', 0.13335106),\n",
              "   ('0', 0.13111258),\n",
              "   ('1', 0.12930037),\n",
              "   ('3', 0.12908721),\n",
              "   ('2', 0.12636067),\n",
              "   ('8', 0.06083421),\n",
              "   ('9', 0.05934929),\n",
              "   ('5', 0.058870446),\n",
              "   ('6', 0.05756697),\n",
              "   ('7', 0.05754411)]),\n",
              " (1,\n",
              "  [('10', 0.12378249),\n",
              "   ('7', 0.12289939),\n",
              "   ('6', 0.12287744),\n",
              "   ('5', 0.12162769),\n",
              "   ('9', 0.12116859),\n",
              "   ('8', 0.11974479),\n",
              "   ('2', 0.05691815),\n",
              "   ('3', 0.054303993),\n",
              "   ('1', 0.05409957),\n",
              "   ('0', 0.052362073)])]"
            ]
          },
          "metadata": {},
          "execution_count": 36
        }
      ]
    },
    {
      "cell_type": "code",
      "source": [
        "output"
      ],
      "metadata": {
        "colab": {
          "base_uri": "https://localhost:8080/"
        },
        "id": "R7ivGJ9H3Oik",
        "outputId": "8b9101bf-3cfc-4beb-cd95-1070b95aa02b"
      },
      "execution_count": null,
      "outputs": [
        {
          "output_type": "execute_result",
          "data": {
            "text/plain": [
              "[(0, 0.5248446), (1, 0.4751554)]"
            ]
          },
          "metadata": {},
          "execution_count": 37
        }
      ]
    }
  ]
}